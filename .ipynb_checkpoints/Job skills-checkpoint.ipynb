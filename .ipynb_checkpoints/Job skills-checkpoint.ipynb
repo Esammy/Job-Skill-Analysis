{
 "cells": [
  {
   "cell_type": "markdown",
   "metadata": {},
   "source": [
    "## Job skills"
   ]
  },
  {
   "cell_type": "markdown",
   "metadata": {},
   "source": [
    "Companies requires individuals with value to bring to the company. Nobody likes a liability. Company dataset has been presented us with some of it's data about workers skills. Different job role requires different skill set. Some job role require fresh Bachelor's degree graduate as some prefered a Ph.D holder it all depend on the role inwhich a candidate is up for.\n",
    "\n",
    "<b>Aim:</b> The aim for the analysis is to see the minimum and preffered qualifications of a Data Scientist as well as other related roles such as Machine Learning, Computer Ccience, Data Analysis Deep Learning e.t.c.\n",
    "\n",
    "Note:\n",
    "Below some of the cells are short notes for easy understanding of what is going on the cell above it"
   ]
  },
  {
   "cell_type": "code",
   "execution_count": 34,
   "metadata": {},
   "outputs": [],
   "source": [
    "# Importing the neccessary libraries\n",
    "import pandas as pd\n",
    "import seaborn as sns\n",
    "import matplotlib.pyplot as plt"
   ]
  },
  {
   "cell_type": "code",
   "execution_count": 3,
   "metadata": {},
   "outputs": [],
   "source": [
    "dataset = pd.read_csv('job_skills.csv')"
   ]
  },
  {
   "cell_type": "code",
   "execution_count": 4,
   "metadata": {},
   "outputs": [
    {
     "data": {
      "text/html": [
       "<div>\n",
       "<style scoped>\n",
       "    .dataframe tbody tr th:only-of-type {\n",
       "        vertical-align: middle;\n",
       "    }\n",
       "\n",
       "    .dataframe tbody tr th {\n",
       "        vertical-align: top;\n",
       "    }\n",
       "\n",
       "    .dataframe thead th {\n",
       "        text-align: right;\n",
       "    }\n",
       "</style>\n",
       "<table border=\"1\" class=\"dataframe\">\n",
       "  <thead>\n",
       "    <tr style=\"text-align: right;\">\n",
       "      <th></th>\n",
       "      <th>Company</th>\n",
       "      <th>Title</th>\n",
       "      <th>Category</th>\n",
       "      <th>Location</th>\n",
       "      <th>Responsibilities</th>\n",
       "      <th>Minimum Qualifications</th>\n",
       "      <th>Preferred Qualifications</th>\n",
       "    </tr>\n",
       "  </thead>\n",
       "  <tbody>\n",
       "    <tr>\n",
       "      <th>964</th>\n",
       "      <td>Google</td>\n",
       "      <td>Treasury Accounting Manager</td>\n",
       "      <td>Finance</td>\n",
       "      <td>Sunnyvale, CA, United States</td>\n",
       "      <td>Perform Treasury Accounting related monthly an...</td>\n",
       "      <td>BA/BS degree or equivalent practical experienc...</td>\n",
       "      <td>Experience in a multinational company with com...</td>\n",
       "    </tr>\n",
       "    <tr>\n",
       "      <th>629</th>\n",
       "      <td>Google</td>\n",
       "      <td>Content Strategist, Consumers, Google Technica...</td>\n",
       "      <td>Marketing &amp; Communications</td>\n",
       "      <td>Boulder, CO, United States</td>\n",
       "      <td>Help drive the development of the online help ...</td>\n",
       "      <td>BA/BS degree or equivalent practical experience.</td>\n",
       "      <td>BA/BS degree in English or Journalism.\\n8 year...</td>\n",
       "    </tr>\n",
       "    <tr>\n",
       "      <th>713</th>\n",
       "      <td>Google</td>\n",
       "      <td>Business Intern 2018</td>\n",
       "      <td>Marketing &amp; Communications</td>\n",
       "      <td>Stockholm, Sweden</td>\n",
       "      <td>Responsibilities and detailed projects will be...</td>\n",
       "      <td>Currently enrolled in a Bachelor's or Master's...</td>\n",
       "      <td>Previous internship experience in Sales, Adver...</td>\n",
       "    </tr>\n",
       "    <tr>\n",
       "      <th>1200</th>\n",
       "      <td>Google</td>\n",
       "      <td>Executive Search Consultant, EMEA</td>\n",
       "      <td>People Operations</td>\n",
       "      <td>London, United Kingdom</td>\n",
       "      <td>Work across the full suite of Google product g...</td>\n",
       "      <td>BA/BS degree or equivalent practical experienc...</td>\n",
       "      <td>Experience solving complex business issues, de...</td>\n",
       "    </tr>\n",
       "    <tr>\n",
       "      <th>596</th>\n",
       "      <td>Google</td>\n",
       "      <td>Online Sales Account Manager (Portuguese)</td>\n",
       "      <td>Sales &amp; Account Management</td>\n",
       "      <td>Dublin, Ireland</td>\n",
       "      <td>Manage trusted relationships with clients and ...</td>\n",
       "      <td>BA/BS degree or equivalent practical experienc...</td>\n",
       "      <td>Detail-oriented with the ability to prioritize...</td>\n",
       "    </tr>\n",
       "    <tr>\n",
       "      <th>307</th>\n",
       "      <td>Google</td>\n",
       "      <td>Strategic Partner Development Manager, Retail ...</td>\n",
       "      <td>Partnerships</td>\n",
       "      <td>München, Germany</td>\n",
       "      <td>NaN</td>\n",
       "      <td>BA/BS degree or equivalent practical experienc...</td>\n",
       "      <td>Relevant experience in sales management, busin...</td>\n",
       "    </tr>\n",
       "    <tr>\n",
       "      <th>336</th>\n",
       "      <td>Google</td>\n",
       "      <td>Data Insights Analyst, Trust and Safety</td>\n",
       "      <td>Product &amp; Customer Support</td>\n",
       "      <td>Dublin, Ireland</td>\n",
       "      <td>Investigate abuse and operational trends, or u...</td>\n",
       "      <td>BA/BS degree in Science, Engineering, Mathemat...</td>\n",
       "      <td>Experience in one or more of the following are...</td>\n",
       "    </tr>\n",
       "    <tr>\n",
       "      <th>717</th>\n",
       "      <td>Google</td>\n",
       "      <td>Creative Lead, Marketing (India)</td>\n",
       "      <td>Marketing &amp; Communications</td>\n",
       "      <td>Gurugram, India</td>\n",
       "      <td>Lead a team of managers and creative agencies ...</td>\n",
       "      <td>8 years of experience in advertising or digita...</td>\n",
       "      <td>Post-graduate degree or MBA.\\nExperience with ...</td>\n",
       "    </tr>\n",
       "    <tr>\n",
       "      <th>969</th>\n",
       "      <td>Google</td>\n",
       "      <td>Revenue Accountant, Cloud Business Finance</td>\n",
       "      <td>Finance</td>\n",
       "      <td>Mountain View, CA, United States</td>\n",
       "      <td>Take responsibility for ensuring the financial...</td>\n",
       "      <td>BA/BS degree or equivalent practical experienc...</td>\n",
       "      <td>Experience in performing revenue accounting cl...</td>\n",
       "    </tr>\n",
       "    <tr>\n",
       "      <th>116</th>\n",
       "      <td>Google</td>\n",
       "      <td>Technical Trainer Manager, Google Cloud</td>\n",
       "      <td>Program Management</td>\n",
       "      <td>Seattle, WA, United States</td>\n",
       "      <td>Manage a global team of Technical Trainers.\\nG...</td>\n",
       "      <td>7 years of experience in a Technical Training ...</td>\n",
       "      <td>Experience with Cloud Infrastructure, Data and...</td>\n",
       "    </tr>\n",
       "  </tbody>\n",
       "</table>\n",
       "</div>"
      ],
      "text/plain": [
       "     Company                                              Title  \\\n",
       "964   Google                        Treasury Accounting Manager   \n",
       "629   Google  Content Strategist, Consumers, Google Technica...   \n",
       "713   Google                               Business Intern 2018   \n",
       "1200  Google                  Executive Search Consultant, EMEA   \n",
       "596   Google          Online Sales Account Manager (Portuguese)   \n",
       "307   Google  Strategic Partner Development Manager, Retail ...   \n",
       "336   Google            Data Insights Analyst, Trust and Safety   \n",
       "717   Google                   Creative Lead, Marketing (India)   \n",
       "969   Google         Revenue Accountant, Cloud Business Finance   \n",
       "116   Google            Technical Trainer Manager, Google Cloud   \n",
       "\n",
       "                        Category                          Location  \\\n",
       "964                      Finance      Sunnyvale, CA, United States   \n",
       "629   Marketing & Communications        Boulder, CO, United States   \n",
       "713   Marketing & Communications                 Stockholm, Sweden   \n",
       "1200           People Operations            London, United Kingdom   \n",
       "596   Sales & Account Management                   Dublin, Ireland   \n",
       "307                 Partnerships                  München, Germany   \n",
       "336   Product & Customer Support                   Dublin, Ireland   \n",
       "717   Marketing & Communications                   Gurugram, India   \n",
       "969                      Finance  Mountain View, CA, United States   \n",
       "116           Program Management        Seattle, WA, United States   \n",
       "\n",
       "                                       Responsibilities  \\\n",
       "964   Perform Treasury Accounting related monthly an...   \n",
       "629   Help drive the development of the online help ...   \n",
       "713   Responsibilities and detailed projects will be...   \n",
       "1200  Work across the full suite of Google product g...   \n",
       "596   Manage trusted relationships with clients and ...   \n",
       "307                                                 NaN   \n",
       "336   Investigate abuse and operational trends, or u...   \n",
       "717   Lead a team of managers and creative agencies ...   \n",
       "969   Take responsibility for ensuring the financial...   \n",
       "116   Manage a global team of Technical Trainers.\\nG...   \n",
       "\n",
       "                                 Minimum Qualifications  \\\n",
       "964   BA/BS degree or equivalent practical experienc...   \n",
       "629    BA/BS degree or equivalent practical experience.   \n",
       "713   Currently enrolled in a Bachelor's or Master's...   \n",
       "1200  BA/BS degree or equivalent practical experienc...   \n",
       "596   BA/BS degree or equivalent practical experienc...   \n",
       "307   BA/BS degree or equivalent practical experienc...   \n",
       "336   BA/BS degree in Science, Engineering, Mathemat...   \n",
       "717   8 years of experience in advertising or digita...   \n",
       "969   BA/BS degree or equivalent practical experienc...   \n",
       "116   7 years of experience in a Technical Training ...   \n",
       "\n",
       "                               Preferred Qualifications  \n",
       "964   Experience in a multinational company with com...  \n",
       "629   BA/BS degree in English or Journalism.\\n8 year...  \n",
       "713   Previous internship experience in Sales, Adver...  \n",
       "1200  Experience solving complex business issues, de...  \n",
       "596   Detail-oriented with the ability to prioritize...  \n",
       "307   Relevant experience in sales management, busin...  \n",
       "336   Experience in one or more of the following are...  \n",
       "717   Post-graduate degree or MBA.\\nExperience with ...  \n",
       "969   Experience in performing revenue accounting cl...  \n",
       "116   Experience with Cloud Infrastructure, Data and...  "
      ]
     },
     "execution_count": 4,
     "metadata": {},
     "output_type": "execute_result"
    }
   ],
   "source": [
    "dataset.sample(10)"
   ]
  },
  {
   "cell_type": "markdown",
   "metadata": {},
   "source": [
    "Just from a brief look from the sample we pulled up, we can see that the company that seems to appear the most is 'Google'. in fact it's all we can see. Are there other companies or we are stuck with google. If that be the case it means our analysis is would be based on google's alone.\n",
    "\n",
    "Let's take a deeper look into each of the columns as many as possible. \n",
    "But befor then let's have a quick overview of the entire dataset i.e the informations about the columns"
   ]
  },
  {
   "cell_type": "code",
   "execution_count": 8,
   "metadata": {},
   "outputs": [
    {
     "name": "stdout",
     "output_type": "stream",
     "text": [
      "<class 'pandas.core.frame.DataFrame'>\n",
      "RangeIndex: 1250 entries, 0 to 1249\n",
      "Data columns (total 7 columns):\n",
      " #   Column                    Non-Null Count  Dtype \n",
      "---  ------                    --------------  ----- \n",
      " 0   Company                   1250 non-null   object\n",
      " 1   Title                     1250 non-null   object\n",
      " 2   Category                  1250 non-null   object\n",
      " 3   Location                  1250 non-null   object\n",
      " 4   Responsibilities          1235 non-null   object\n",
      " 5   Minimum Qualifications    1236 non-null   object\n",
      " 6   Preferred Qualifications  1236 non-null   object\n",
      "dtypes: object(7)\n",
      "memory usage: 68.5+ KB\n"
     ]
    }
   ],
   "source": [
    "dataset.info()"
   ]
  },
  {
   "cell_type": "markdown",
   "metadata": {},
   "source": [
    "The entire dataset has 1250 rows maximum and 7 columns. \n",
    "We also see that the following columns <b>['Responsibilities', 'Minimum Qualifications', 'Preferred Qualification']</b> has missing data because they don't round up to 1250"
   ]
  },
  {
   "cell_type": "code",
   "execution_count": 6,
   "metadata": {},
   "outputs": [
    {
     "data": {
      "text/plain": [
       "array(['Google', 'YouTube'], dtype=object)"
      ]
     },
     "execution_count": 6,
     "metadata": {},
     "output_type": "execute_result"
    }
   ],
   "source": [
    "dataset['Company'].unique()"
   ]
  },
  {
   "cell_type": "markdown",
   "metadata": {},
   "source": [
    "So it is based on Google and Youtube"
   ]
  },
  {
   "cell_type": "code",
   "execution_count": 44,
   "metadata": {},
   "outputs": [
    {
     "data": {
      "text/plain": [
       "<matplotlib.axes._subplots.AxesSubplot at 0x21574196108>"
      ]
     },
     "execution_count": 44,
     "metadata": {},
     "output_type": "execute_result"
    },
    {
     "data": {
      "image/png": "[encoded data removed]",
      "text/plain": [
       "<Figure size 1080x576 with 1 Axes>"
      ]
     },
     "metadata": {},
     "output_type": "display_data"
    }
   ],
   "source": [
    "sns.set(rc={'figure.figsize':(15,8)})\n",
    "sns.countplot(x='Company', data=dataset)"
   ]
  },
  {
   "cell_type": "markdown",
   "metadata": {},
   "source": [
    "The number of workers for YouTube is almost insignificant here. Nevertheless lets proceed with our analysis"
   ]
  },
  {
   "cell_type": "code",
   "execution_count": 10,
   "metadata": {},
   "outputs": [
    {
     "data": {
      "text/html": [
       "<div>\n",
       "<style scoped>\n",
       "    .dataframe tbody tr th:only-of-type {\n",
       "        vertical-align: middle;\n",
       "    }\n",
       "\n",
       "    .dataframe tbody tr th {\n",
       "        vertical-align: top;\n",
       "    }\n",
       "\n",
       "    .dataframe thead th {\n",
       "        text-align: right;\n",
       "    }\n",
       "</style>\n",
       "<table border=\"1\" class=\"dataframe\">\n",
       "  <thead>\n",
       "    <tr style=\"text-align: right;\">\n",
       "      <th></th>\n",
       "      <th>Company</th>\n",
       "      <th>Title</th>\n",
       "      <th>Category</th>\n",
       "      <th>Location</th>\n",
       "      <th>Responsibilities</th>\n",
       "      <th>Minimum Qualifications</th>\n",
       "      <th>Preferred Qualifications</th>\n",
       "    </tr>\n",
       "  </thead>\n",
       "  <tbody>\n",
       "    <tr>\n",
       "      <th>159</th>\n",
       "      <td>YouTube</td>\n",
       "      <td>Product Strategist, Growth, YouTube</td>\n",
       "      <td>Business Strategy</td>\n",
       "      <td>San Bruno, CA, United States</td>\n",
       "      <td>Help define the performance metrics and goals ...</td>\n",
       "      <td>BA/BS degree or equivalent practical experienc...</td>\n",
       "      <td>10 years of experience in an analytically-inte...</td>\n",
       "    </tr>\n",
       "    <tr>\n",
       "      <th>309</th>\n",
       "      <td>YouTube</td>\n",
       "      <td>Performance Video Agency Specialist, YouTube</td>\n",
       "      <td>Sales &amp; Account Management</td>\n",
       "      <td>New York, NY, United States</td>\n",
       "      <td>Manage Performance relationships from C-level ...</td>\n",
       "      <td>BA/BS degree or equivalent practical experienc...</td>\n",
       "      <td>Established experience relationships and prese...</td>\n",
       "    </tr>\n",
       "    <tr>\n",
       "      <th>326</th>\n",
       "      <td>YouTube</td>\n",
       "      <td>Quality Program Manager, Global Vendor Operati...</td>\n",
       "      <td>Product &amp; Customer Support</td>\n",
       "      <td>Hyderabad, India</td>\n",
       "      <td>Build a global quality assurance program, driv...</td>\n",
       "      <td>BA/BS degree or equivalent practical experienc...</td>\n",
       "      <td>Strong project management skills (e.g. ability...</td>\n",
       "    </tr>\n",
       "    <tr>\n",
       "      <th>421</th>\n",
       "      <td>YouTube</td>\n",
       "      <td>Online Partner Manager (MENA), YouTube</td>\n",
       "      <td>Partnerships</td>\n",
       "      <td>London, United Kingdom</td>\n",
       "      <td>Manage and help grow a portfolio of YouTube cr...</td>\n",
       "      <td>BA/BS degree or equivalent practical experienc...</td>\n",
       "      <td>Experience in the video, media, and/or enterta...</td>\n",
       "    </tr>\n",
       "    <tr>\n",
       "      <th>466</th>\n",
       "      <td>YouTube</td>\n",
       "      <td>Product Strategist, Growth, YouTube</td>\n",
       "      <td>Business Strategy</td>\n",
       "      <td>San Bruno, CA, United States</td>\n",
       "      <td>Help define the performance metrics and goals ...</td>\n",
       "      <td>BA/BS degree or equivalent practical experienc...</td>\n",
       "      <td>10 years of experience in an analytically-inte...</td>\n",
       "    </tr>\n",
       "    <tr>\n",
       "      <th>514</th>\n",
       "      <td>YouTube</td>\n",
       "      <td>Enforcement Analyst, Trust and Safety, YouTube</td>\n",
       "      <td>Product &amp; Customer Support</td>\n",
       "      <td>Singapore</td>\n",
       "      <td>Develop and implement strategies to enforce Yo...</td>\n",
       "      <td>Master of Science degree in a technical field ...</td>\n",
       "      <td>Experience or demonstrated interest in content...</td>\n",
       "    </tr>\n",
       "    <tr>\n",
       "      <th>601</th>\n",
       "      <td>YouTube</td>\n",
       "      <td>Product Marketing Manager, YouTube</td>\n",
       "      <td>Marketing &amp; Communications</td>\n",
       "      <td>Stockholm, Sweden</td>\n",
       "      <td>Work across several aspects of marketing – fro...</td>\n",
       "      <td>BA/BS degree or equivalent practical experienc...</td>\n",
       "      <td>MBA degree in a related field.\\nExperience dev...</td>\n",
       "    </tr>\n",
       "    <tr>\n",
       "      <th>643</th>\n",
       "      <td>YouTube</td>\n",
       "      <td>Consumer Product Marketing Manager, YouTube</td>\n",
       "      <td>Marketing &amp; Communications</td>\n",
       "      <td>Mexico City, Mexico</td>\n",
       "      <td>Seek actionable consumer insights to inform pr...</td>\n",
       "      <td>BA/BS degree or equivalent practical experienc...</td>\n",
       "      <td>MBA degree.\\nDemonstrated passion for consumer...</td>\n",
       "    </tr>\n",
       "    <tr>\n",
       "      <th>655</th>\n",
       "      <td>YouTube</td>\n",
       "      <td>Global Head of Music Social and Influencer Mar...</td>\n",
       "      <td>Marketing &amp; Communications</td>\n",
       "      <td>New York, NY, United States</td>\n",
       "      <td>Be responsible for building the social media a...</td>\n",
       "      <td>BA/BS degree or equivalent practical experienc...</td>\n",
       "      <td>Experience in the music industry, with an unde...</td>\n",
       "    </tr>\n",
       "    <tr>\n",
       "      <th>677</th>\n",
       "      <td>YouTube</td>\n",
       "      <td>Global Head of Music Social and Influencer Mar...</td>\n",
       "      <td>Marketing &amp; Communications</td>\n",
       "      <td>San Bruno, CA, United States</td>\n",
       "      <td>Be responsible for building the social media a...</td>\n",
       "      <td>BA/BS degree or equivalent practical experienc...</td>\n",
       "      <td>Experience in the music industry, with an unde...</td>\n",
       "    </tr>\n",
       "    <tr>\n",
       "      <th>856</th>\n",
       "      <td>YouTube</td>\n",
       "      <td>Interaction Designer, YouTube</td>\n",
       "      <td>User Experience &amp; Design</td>\n",
       "      <td>San Bruno, CA, United States</td>\n",
       "      <td>Help to define the user model and user interfa...</td>\n",
       "      <td>BA/BS degree in Design (e.g., interaction, gra...</td>\n",
       "      <td>MA/MS degree in Design, HCI, CS, or a related ...</td>\n",
       "    </tr>\n",
       "    <tr>\n",
       "      <th>897</th>\n",
       "      <td>YouTube</td>\n",
       "      <td>Scaled Abuse Analyst, YouTube</td>\n",
       "      <td>Business Strategy</td>\n",
       "      <td>San Bruno, CA, United States</td>\n",
       "      <td>Apply advanced statistical methods to large co...</td>\n",
       "      <td>BA/BS degree or equivalent practical experienc...</td>\n",
       "      <td>Experience with classification systems, rankin...</td>\n",
       "    </tr>\n",
       "    <tr>\n",
       "      <th>912</th>\n",
       "      <td>YouTube</td>\n",
       "      <td>Product Strategist, Growth, YouTube</td>\n",
       "      <td>Business Strategy</td>\n",
       "      <td>San Bruno, CA, United States</td>\n",
       "      <td>Help define the performance metrics and goals ...</td>\n",
       "      <td>BA/BS degree or equivalent practical experienc...</td>\n",
       "      <td>10 years of experience in an analytically-inte...</td>\n",
       "    </tr>\n",
       "    <tr>\n",
       "      <th>919</th>\n",
       "      <td>YouTube</td>\n",
       "      <td>Principal, Strategy, YouTube</td>\n",
       "      <td>Business Strategy</td>\n",
       "      <td>San Bruno, CA, United States</td>\n",
       "      <td>Work with YouTube’s leadership teams to define...</td>\n",
       "      <td>BA/BS degree or equivalent practical experienc...</td>\n",
       "      <td>MBA or Master's degree in Computer Science, En...</td>\n",
       "    </tr>\n",
       "    <tr>\n",
       "      <th>947</th>\n",
       "      <td>YouTube</td>\n",
       "      <td>Risk Advisor, YouTube</td>\n",
       "      <td>Finance</td>\n",
       "      <td>San Bruno, CA, United States</td>\n",
       "      <td>Partner closely with Product, Engineering, Ope...</td>\n",
       "      <td>BA/BS degree or equivalent practical experienc...</td>\n",
       "      <td>MBA degree.\\nCPA certification.\\nExperience in...</td>\n",
       "    </tr>\n",
       "    <tr>\n",
       "      <th>1011</th>\n",
       "      <td>YouTube</td>\n",
       "      <td>Residual Manager, YouTube Originals</td>\n",
       "      <td>Finance</td>\n",
       "      <td>Los Angeles, CA, United States</td>\n",
       "      <td>Manage all aspects of residual payment needs a...</td>\n",
       "      <td>BA/BS degree or equivalent practical experienc...</td>\n",
       "      <td>Experience in people and project management, i...</td>\n",
       "    </tr>\n",
       "    <tr>\n",
       "      <th>1033</th>\n",
       "      <td>YouTube</td>\n",
       "      <td>Residual Manager, YouTube Originals</td>\n",
       "      <td>Finance</td>\n",
       "      <td>San Bruno, CA, United States</td>\n",
       "      <td>Manage all aspects of residual payment needs a...</td>\n",
       "      <td>BA/BS degree or equivalent practical experienc...</td>\n",
       "      <td>Experience in people and project management, i...</td>\n",
       "    </tr>\n",
       "    <tr>\n",
       "      <th>1061</th>\n",
       "      <td>YouTube</td>\n",
       "      <td>Associate Legal Counsel, Development, Producti...</td>\n",
       "      <td>Legal &amp; Government Relations</td>\n",
       "      <td>Los Angeles, CA, United States</td>\n",
       "      <td>Consult on and draft agreements relating to th...</td>\n",
       "      <td>Admitted to the bar in which this position is ...</td>\n",
       "      <td>5 years of experience in entertainment law.\\nE...</td>\n",
       "    </tr>\n",
       "    <tr>\n",
       "      <th>1069</th>\n",
       "      <td>YouTube</td>\n",
       "      <td>Legal and Policy Operations Specialist (Englis...</td>\n",
       "      <td>Legal &amp; Government Relations</td>\n",
       "      <td>Singapore</td>\n",
       "      <td>Coordinate Legal operations escalations across...</td>\n",
       "      <td>Experience in project and process management, ...</td>\n",
       "      <td>Experience in Legal operations and/or Policy e...</td>\n",
       "    </tr>\n",
       "    <tr>\n",
       "      <th>1087</th>\n",
       "      <td>YouTube</td>\n",
       "      <td>Legal Counsel, Development, Production and Lic...</td>\n",
       "      <td>Legal &amp; Government Relations</td>\n",
       "      <td>Los Angeles, CA, United States</td>\n",
       "      <td>Advise management on legal challenges and agre...</td>\n",
       "      <td>Admitted to the bar in which this position is ...</td>\n",
       "      <td>12 years of experience in entertainment law wi...</td>\n",
       "    </tr>\n",
       "    <tr>\n",
       "      <th>1168</th>\n",
       "      <td>YouTube</td>\n",
       "      <td>Product Strategist, Growth, YouTube</td>\n",
       "      <td>Business Strategy</td>\n",
       "      <td>San Bruno, CA, United States</td>\n",
       "      <td>Help define the performance metrics and goals ...</td>\n",
       "      <td>BA/BS degree or equivalent practical experienc...</td>\n",
       "      <td>10 years of experience in an analytically-inte...</td>\n",
       "    </tr>\n",
       "    <tr>\n",
       "      <th>1214</th>\n",
       "      <td>YouTube</td>\n",
       "      <td>Executive/Administrative Business Partner, You...</td>\n",
       "      <td>Administrative</td>\n",
       "      <td>Los Angeles, CA, United States</td>\n",
       "      <td>Perform an array of administrative tasks (mana...</td>\n",
       "      <td>BA/BS degree or equivalent practical experienc...</td>\n",
       "      <td>Experience serving as a Project Lead from conc...</td>\n",
       "    </tr>\n",
       "    <tr>\n",
       "      <th>1226</th>\n",
       "      <td>YouTube</td>\n",
       "      <td>Real Estate and Workplace Services (REWS) Busi...</td>\n",
       "      <td>Real Estate &amp; Workplace Services</td>\n",
       "      <td>San Bruno, CA, United States</td>\n",
       "      <td>Thrive amidst ambiguity and be comfortable nav...</td>\n",
       "      <td>Bachelor's degree or equivalent practical expe...</td>\n",
       "      <td>Solid strategic and operational client relatio...</td>\n",
       "    </tr>\n",
       "  </tbody>\n",
       "</table>\n",
       "</div>"
      ],
      "text/plain": [
       "      Company                                              Title  \\\n",
       "159   YouTube                Product Strategist, Growth, YouTube   \n",
       "309   YouTube       Performance Video Agency Specialist, YouTube   \n",
       "326   YouTube  Quality Program Manager, Global Vendor Operati...   \n",
       "421   YouTube             Online Partner Manager (MENA), YouTube   \n",
       "466   YouTube                Product Strategist, Growth, YouTube   \n",
       "514   YouTube     Enforcement Analyst, Trust and Safety, YouTube   \n",
       "601   YouTube                 Product Marketing Manager, YouTube   \n",
       "643   YouTube        Consumer Product Marketing Manager, YouTube   \n",
       "655   YouTube  Global Head of Music Social and Influencer Mar...   \n",
       "677   YouTube  Global Head of Music Social and Influencer Mar...   \n",
       "856   YouTube                      Interaction Designer, YouTube   \n",
       "897   YouTube                      Scaled Abuse Analyst, YouTube   \n",
       "912   YouTube                Product Strategist, Growth, YouTube   \n",
       "919   YouTube                       Principal, Strategy, YouTube   \n",
       "947   YouTube                              Risk Advisor, YouTube   \n",
       "1011  YouTube                Residual Manager, YouTube Originals   \n",
       "1033  YouTube                Residual Manager, YouTube Originals   \n",
       "1061  YouTube  Associate Legal Counsel, Development, Producti...   \n",
       "1069  YouTube  Legal and Policy Operations Specialist (Englis...   \n",
       "1087  YouTube  Legal Counsel, Development, Production and Lic...   \n",
       "1168  YouTube                Product Strategist, Growth, YouTube   \n",
       "1214  YouTube  Executive/Administrative Business Partner, You...   \n",
       "1226  YouTube  Real Estate and Workplace Services (REWS) Busi...   \n",
       "\n",
       "                              Category                        Location  \\\n",
       "159                  Business Strategy    San Bruno, CA, United States   \n",
       "309         Sales & Account Management     New York, NY, United States   \n",
       "326         Product & Customer Support                Hyderabad, India   \n",
       "421                       Partnerships          London, United Kingdom   \n",
       "466                  Business Strategy    San Bruno, CA, United States   \n",
       "514         Product & Customer Support                       Singapore   \n",
       "601         Marketing & Communications               Stockholm, Sweden   \n",
       "643         Marketing & Communications             Mexico City, Mexico   \n",
       "655         Marketing & Communications     New York, NY, United States   \n",
       "677         Marketing & Communications    San Bruno, CA, United States   \n",
       "856           User Experience & Design    San Bruno, CA, United States   \n",
       "897                  Business Strategy    San Bruno, CA, United States   \n",
       "912                  Business Strategy    San Bruno, CA, United States   \n",
       "919                  Business Strategy    San Bruno, CA, United States   \n",
       "947                            Finance    San Bruno, CA, United States   \n",
       "1011                           Finance  Los Angeles, CA, United States   \n",
       "1033                           Finance    San Bruno, CA, United States   \n",
       "1061      Legal & Government Relations  Los Angeles, CA, United States   \n",
       "1069      Legal & Government Relations                       Singapore   \n",
       "1087      Legal & Government Relations  Los Angeles, CA, United States   \n",
       "1168                 Business Strategy    San Bruno, CA, United States   \n",
       "1214                    Administrative  Los Angeles, CA, United States   \n",
       "1226  Real Estate & Workplace Services    San Bruno, CA, United States   \n",
       "\n",
       "                                       Responsibilities  \\\n",
       "159   Help define the performance metrics and goals ...   \n",
       "309   Manage Performance relationships from C-level ...   \n",
       "326   Build a global quality assurance program, driv...   \n",
       "421   Manage and help grow a portfolio of YouTube cr...   \n",
       "466   Help define the performance metrics and goals ...   \n",
       "514   Develop and implement strategies to enforce Yo...   \n",
       "601   Work across several aspects of marketing – fro...   \n",
       "643   Seek actionable consumer insights to inform pr...   \n",
       "655   Be responsible for building the social media a...   \n",
       "677   Be responsible for building the social media a...   \n",
       "856   Help to define the user model and user interfa...   \n",
       "897   Apply advanced statistical methods to large co...   \n",
       "912   Help define the performance metrics and goals ...   \n",
       "919   Work with YouTube’s leadership teams to define...   \n",
       "947   Partner closely with Product, Engineering, Ope...   \n",
       "1011  Manage all aspects of residual payment needs a...   \n",
       "1033  Manage all aspects of residual payment needs a...   \n",
       "1061  Consult on and draft agreements relating to th...   \n",
       "1069  Coordinate Legal operations escalations across...   \n",
       "1087  Advise management on legal challenges and agre...   \n",
       "1168  Help define the performance metrics and goals ...   \n",
       "1214  Perform an array of administrative tasks (mana...   \n",
       "1226  Thrive amidst ambiguity and be comfortable nav...   \n",
       "\n",
       "                                 Minimum Qualifications  \\\n",
       "159   BA/BS degree or equivalent practical experienc...   \n",
       "309   BA/BS degree or equivalent practical experienc...   \n",
       "326   BA/BS degree or equivalent practical experienc...   \n",
       "421   BA/BS degree or equivalent practical experienc...   \n",
       "466   BA/BS degree or equivalent practical experienc...   \n",
       "514   Master of Science degree in a technical field ...   \n",
       "601   BA/BS degree or equivalent practical experienc...   \n",
       "643   BA/BS degree or equivalent practical experienc...   \n",
       "655   BA/BS degree or equivalent practical experienc...   \n",
       "677   BA/BS degree or equivalent practical experienc...   \n",
       "856   BA/BS degree in Design (e.g., interaction, gra...   \n",
       "897   BA/BS degree or equivalent practical experienc...   \n",
       "912   BA/BS degree or equivalent practical experienc...   \n",
       "919   BA/BS degree or equivalent practical experienc...   \n",
       "947   BA/BS degree or equivalent practical experienc...   \n",
       "1011  BA/BS degree or equivalent practical experienc...   \n",
       "1033  BA/BS degree or equivalent practical experienc...   \n",
       "1061  Admitted to the bar in which this position is ...   \n",
       "1069  Experience in project and process management, ...   \n",
       "1087  Admitted to the bar in which this position is ...   \n",
       "1168  BA/BS degree or equivalent practical experienc...   \n",
       "1214  BA/BS degree or equivalent practical experienc...   \n",
       "1226  Bachelor's degree or equivalent practical expe...   \n",
       "\n",
       "                               Preferred Qualifications  \n",
       "159   10 years of experience in an analytically-inte...  \n",
       "309   Established experience relationships and prese...  \n",
       "326   Strong project management skills (e.g. ability...  \n",
       "421   Experience in the video, media, and/or enterta...  \n",
       "466   10 years of experience in an analytically-inte...  \n",
       "514   Experience or demonstrated interest in content...  \n",
       "601   MBA degree in a related field.\\nExperience dev...  \n",
       "643   MBA degree.\\nDemonstrated passion for consumer...  \n",
       "655   Experience in the music industry, with an unde...  \n",
       "677   Experience in the music industry, with an unde...  \n",
       "856   MA/MS degree in Design, HCI, CS, or a related ...  \n",
       "897   Experience with classification systems, rankin...  \n",
       "912   10 years of experience in an analytically-inte...  \n",
       "919   MBA or Master's degree in Computer Science, En...  \n",
       "947   MBA degree.\\nCPA certification.\\nExperience in...  \n",
       "1011  Experience in people and project management, i...  \n",
       "1033  Experience in people and project management, i...  \n",
       "1061  5 years of experience in entertainment law.\\nE...  \n",
       "1069  Experience in Legal operations and/or Policy e...  \n",
       "1087  12 years of experience in entertainment law wi...  \n",
       "1168  10 years of experience in an analytically-inte...  \n",
       "1214  Experience serving as a Project Lead from conc...  \n",
       "1226  Solid strategic and operational client relatio...  "
      ]
     },
     "execution_count": 10,
     "metadata": {},
     "output_type": "execute_result"
    }
   ],
   "source": [
    "dataset[dataset['Company'] == 'YouTube']"
   ]
  },
  {
   "cell_type": "code",
   "execution_count": 11,
   "metadata": {
    "scrolled": true
   },
   "outputs": [
    {
     "data": {
      "text/plain": [
       "Company                     23\n",
       "Title                       23\n",
       "Category                    23\n",
       "Location                    23\n",
       "Responsibilities            23\n",
       "Minimum Qualifications      23\n",
       "Preferred Qualifications    23\n",
       "dtype: int64"
      ]
     },
     "execution_count": 11,
     "metadata": {},
     "output_type": "execute_result"
    }
   ],
   "source": [
    "dataset[dataset['Company'] == 'YouTube'].count()"
   ]
  },
  {
   "cell_type": "markdown",
   "metadata": {},
   "source": [
    "These are all we have for YouTube company. Each columns has 23 rows. Atleast Now we know the few missing data we are having has nothing to do with the data coming from YouTube, their data is complete and clean"
   ]
  },
  {
   "cell_type": "code",
   "execution_count": 15,
   "metadata": {},
   "outputs": [],
   "source": [
    "YouTube = dataset[dataset['Company'] == 'YouTube']"
   ]
  },
  {
   "cell_type": "code",
   "execution_count": 19,
   "metadata": {},
   "outputs": [
    {
     "data": {
      "text/plain": [
       "794"
      ]
     },
     "execution_count": 19,
     "metadata": {},
     "output_type": "execute_result"
    }
   ],
   "source": [
    "dataset['Title'].nunique()"
   ]
  },
  {
   "cell_type": "code",
   "execution_count": 20,
   "metadata": {},
   "outputs": [
    {
     "data": {
      "text/plain": [
       "18"
      ]
     },
     "execution_count": 20,
     "metadata": {},
     "output_type": "execute_result"
    }
   ],
   "source": [
    "YouTube['Title'].nunique()"
   ]
  },
  {
   "cell_type": "markdown",
   "metadata": {},
   "source": [
    "This is pretty amazing. I usually think there is not so many roles out there expecially in a tech firm, but these has proven that my thought were wrong. Only few individuals actually have similar job title, hence majority are different. In YouTube alone out of 23 job title only 5 is not unique to themselves"
   ]
  },
  {
   "cell_type": "code",
   "execution_count": 26,
   "metadata": {},
   "outputs": [
    {
     "name": "stdout",
     "output_type": "stream",
     "text": [
      "Unique categories for the entire dataset: 23\n",
      "Unique categories for the YouTube dataset: 10\n"
     ]
    }
   ],
   "source": [
    "### Category\n",
    "print('Unique categories for the entire dataset:', dataset['Category'].nunique())\n",
    "print('Unique categories for the YouTube dataset:',YouTube['Category'].nunique())"
   ]
  },
  {
   "cell_type": "code",
   "execution_count": 48,
   "metadata": {},
   "outputs": [
    {
     "data": {
      "image/png": "[encoded data removed]",
      "text/plain": [
       "<Figure size 1080x576 with 1 Axes>"
      ]
     },
     "metadata": {},
     "output_type": "display_data"
    }
   ],
   "source": [
    "# Lets see the category with the highest number of workers\n",
    "plot=sns.countplot(x='Category', data=dataset)\n",
    "plot.set_xticklabels(plot.get_xticklabels(), rotation=90);"
   ]
  },
  {
   "cell_type": "code",
   "execution_count": 43,
   "metadata": {},
   "outputs": [
    {
     "data": {
      "text/plain": [
       "1250"
      ]
     },
     "execution_count": 43,
     "metadata": {},
     "output_type": "execute_result"
    }
   ],
   "source": [
    "dataset['Category'].count()"
   ]
  },
  {
   "cell_type": "code",
   "execution_count": 46,
   "metadata": {},
   "outputs": [
    {
     "data": {
      "text/plain": [
       "\"\\nlabels = [dataset['Category']]\\ncolors = sns.color_palette('pastel')[0:5]\\nplt.pie(dataset['Category'], labels=labels, colors=colors, autopct='%.0f%%')\\nplt.show()\\n\""
      ]
     },
     "execution_count": 46,
     "metadata": {},
     "output_type": "execute_result"
    }
   ],
   "source": [
    "# Lets see this same thing in a pie chat\n",
    "'''\n",
    "labels = [dataset['Category']]\n",
    "colors = sns.color_palette('pastel')[0:5]\n",
    "plt.pie(dataset['Category'], labels=labels, colors=colors, autopct='%.0f%%')\n",
    "plt.show()\n",
    "'''"
   ]
  },
  {
   "cell_type": "code",
   "execution_count": 47,
   "metadata": {},
   "outputs": [
    {
     "data": {
      "text/plain": [
       "92"
      ]
     },
     "execution_count": 47,
     "metadata": {},
     "output_type": "execute_result"
    }
   ],
   "source": [
    "dataset['Location'].nunique()"
   ]
  },
  {
   "cell_type": "code",
   "execution_count": 52,
   "metadata": {},
   "outputs": [
    {
     "data": {
      "image/png": "[encoded data removed]",
      "text/plain": [
       "<Figure size 1080x576 with 1 Axes>"
      ]
     },
     "metadata": {},
     "output_type": "display_data"
    }
   ],
   "source": [
    "# Lets see the Location with the highest number of workers\n",
    "plot=sns.countplot(x='Location', data=dataset[dataset['Company'] == 'Google'])\n",
    "plot.set_xticklabels(plot.get_xticklabels(), rotation=90);"
   ]
  },
  {
   "cell_type": "markdown",
   "metadata": {},
   "source": [
    "Mountain, CA, United State seems to be the location with the so much workers. I suppose that is google's company"
   ]
  },
  {
   "cell_type": "code",
   "execution_count": 51,
   "metadata": {},
   "outputs": [
    {
     "data": {
      "image/png": "[encoded data removed]",
      "text/plain": [
       "<Figure size 1080x576 with 1 Axes>"
      ]
     },
     "metadata": {},
     "output_type": "display_data"
    }
   ],
   "source": [
    "# Lets see the Location with the highest number of workers for YouTube alone\n",
    "plot=sns.countplot(x='Location', data=YouTube)\n",
    "plot.set_xticklabels(plot.get_xticklabels(), rotation=40);"
   ]
  },
  {
   "cell_type": "markdown",
   "metadata": {},
   "source": [
    "San Bruno, CA, United State is the location that has the highest population of worker for YouTube."
   ]
  },
  {
   "cell_type": "code",
   "execution_count": 62,
   "metadata": {},
   "outputs": [
    {
     "data": {
      "text/plain": [
       "807"
      ]
     },
     "execution_count": 62,
     "metadata": {},
     "output_type": "execute_result"
    }
   ],
   "source": [
    "dataset['Minimum Qualifications'].nunique()"
   ]
  },
  {
   "cell_type": "code",
   "execution_count": 63,
   "metadata": {},
   "outputs": [
    {
     "data": {
      "text/plain": [
       "801"
      ]
     },
     "execution_count": 63,
     "metadata": {},
     "output_type": "execute_result"
    }
   ],
   "source": [
    "dataset['Responsibilities'].nunique()"
   ]
  },
  {
   "cell_type": "code",
   "execution_count": 64,
   "metadata": {},
   "outputs": [
    {
     "data": {
      "text/plain": [
       "821"
      ]
     },
     "execution_count": 64,
     "metadata": {},
     "output_type": "execute_result"
    }
   ],
   "source": [
    "dataset['Preferred Qualifications'].nunique()"
   ]
  },
  {
   "cell_type": "markdown",
   "metadata": {},
   "source": [
    "We will leave this three (3) columns alone as they contains alot of unique data in each cell of each columns with will make life a little more dificault for us. Lets proceed further to see how we can bring out the Computer Science related fields and see both the minimum and prefirred qualification and possibly their Responsibilities as well.\n"
   ]
  },
  {
   "cell_type": "code",
   "execution_count": 67,
   "metadata": {},
   "outputs": [
    {
     "data": {
      "text/plain": [
       "array(['Program Management', 'Manufacturing & Supply Chain',\n",
       "       'Technical Solutions', 'Developer Relations',\n",
       "       'Hardware Engineering', 'Partnerships',\n",
       "       'Product & Customer Support', 'Software Engineering',\n",
       "       'Data Center & Network', 'Business Strategy', 'Technical Writing',\n",
       "       'Technical Infrastructure', 'IT & Data Management',\n",
       "       'Marketing & Communications', 'Network Engineering',\n",
       "       'Sales & Account Management', 'Sales Operations', 'Finance',\n",
       "       'Legal & Government Relations', 'Administrative',\n",
       "       'User Experience & Design', 'People Operations',\n",
       "       'Real Estate & Workplace Services'], dtype=object)"
      ]
     },
     "execution_count": 67,
     "metadata": {},
     "output_type": "execute_result"
    }
   ],
   "source": [
    "dataset['Category'].unique()"
   ]
  },
  {
   "cell_type": "markdown",
   "metadata": {},
   "source": [
    "Looking at the categories we can pick the roles that has to do with computer science or IT at large. We will do just that and see how we can narrow it to just those that concerns data"
   ]
  },
  {
   "cell_type": "markdown",
   "metadata": {},
   "source": [
    "# IT or Computer Science specific roles in the company\n",
    "\n",
    "#### Each of the IT related categories are drawn seperately to allow readability. Now we can view each and see the requirement for the category"
   ]
  },
  {
   "cell_type": "markdown",
   "metadata": {},
   "source": [
    "## Developer Relations"
   ]
  },
  {
   "cell_type": "code",
   "execution_count": 106,
   "metadata": {},
   "outputs": [
    {
     "name": "stdout",
     "output_type": "stream",
     "text": [
      "Developer Relations has 5 rows\n"
     ]
    },
    {
     "data": {
      "text/html": [
       "<div>\n",
       "<style scoped>\n",
       "    .dataframe tbody tr th:only-of-type {\n",
       "        vertical-align: middle;\n",
       "    }\n",
       "\n",
       "    .dataframe tbody tr th {\n",
       "        vertical-align: top;\n",
       "    }\n",
       "\n",
       "    .dataframe thead th {\n",
       "        text-align: right;\n",
       "    }\n",
       "</style>\n",
       "<table border=\"1\" class=\"dataframe\">\n",
       "  <thead>\n",
       "    <tr style=\"text-align: right;\">\n",
       "      <th></th>\n",
       "      <th>Company</th>\n",
       "      <th>Title</th>\n",
       "      <th>Category</th>\n",
       "      <th>Location</th>\n",
       "      <th>Responsibilities</th>\n",
       "      <th>Minimum Qualifications</th>\n",
       "      <th>Preferred Qualifications</th>\n",
       "    </tr>\n",
       "  </thead>\n",
       "  <tbody>\n",
       "    <tr>\n",
       "      <th>3</th>\n",
       "      <td>Google</td>\n",
       "      <td>Developer Advocate, Partner Engineering</td>\n",
       "      <td>Developer Relations</td>\n",
       "      <td>Mountain View, CA, United States</td>\n",
       "      <td>Work one-on-one with the top Android, iOS, and...</td>\n",
       "      <td>BA/BS degree in Computer Science or equivalent...</td>\n",
       "      <td>Experience as a software developer, architect,...</td>\n",
       "    </tr>\n",
       "    <tr>\n",
       "      <th>75</th>\n",
       "      <td>Google</td>\n",
       "      <td>Developer Advocate, Cloud Platform</td>\n",
       "      <td>Developer Relations</td>\n",
       "      <td>London, United Kingdom</td>\n",
       "      <td>Create awareness and momentum, and drive the s...</td>\n",
       "      <td>BA/BS degree or equivalent practical experienc...</td>\n",
       "      <td>Master's degree in Computer Science or related...</td>\n",
       "    </tr>\n",
       "    <tr>\n",
       "      <th>142</th>\n",
       "      <td>Google</td>\n",
       "      <td>Developer Advocate, Partner Engineering</td>\n",
       "      <td>Developer Relations</td>\n",
       "      <td>London, United Kingdom</td>\n",
       "      <td>Work one-on-one with the top Android, iOS, and...</td>\n",
       "      <td>BA/BS degree in Computer Science or equivalent...</td>\n",
       "      <td>Experience as a software developer, architect,...</td>\n",
       "    </tr>\n",
       "    <tr>\n",
       "      <th>145</th>\n",
       "      <td>Google</td>\n",
       "      <td>Developer Advocate, Web</td>\n",
       "      <td>Developer Relations</td>\n",
       "      <td>London, United Kingdom</td>\n",
       "      <td>Create awareness and momentum; manage the succ...</td>\n",
       "      <td>BA/BS degree or equivalent practical experienc...</td>\n",
       "      <td>BA/BS degree in Computer Science or similar fi...</td>\n",
       "    </tr>\n",
       "    <tr>\n",
       "      <th>240</th>\n",
       "      <td>Google</td>\n",
       "      <td>Developer Advocate, Partner Engineering</td>\n",
       "      <td>Developer Relations</td>\n",
       "      <td>New York, NY, United States</td>\n",
       "      <td>Work one-on-one with the top Android, iOS, and...</td>\n",
       "      <td>BA/BS degree in Computer Science or equivalent...</td>\n",
       "      <td>Experience as a software developer, architect,...</td>\n",
       "    </tr>\n",
       "  </tbody>\n",
       "</table>\n",
       "</div>"
      ],
      "text/plain": [
       "    Company                                    Title             Category  \\\n",
       "3    Google  Developer Advocate, Partner Engineering  Developer Relations   \n",
       "75   Google       Developer Advocate, Cloud Platform  Developer Relations   \n",
       "142  Google  Developer Advocate, Partner Engineering  Developer Relations   \n",
       "145  Google                  Developer Advocate, Web  Developer Relations   \n",
       "240  Google  Developer Advocate, Partner Engineering  Developer Relations   \n",
       "\n",
       "                             Location  \\\n",
       "3    Mountain View, CA, United States   \n",
       "75             London, United Kingdom   \n",
       "142            London, United Kingdom   \n",
       "145            London, United Kingdom   \n",
       "240       New York, NY, United States   \n",
       "\n",
       "                                      Responsibilities  \\\n",
       "3    Work one-on-one with the top Android, iOS, and...   \n",
       "75   Create awareness and momentum, and drive the s...   \n",
       "142  Work one-on-one with the top Android, iOS, and...   \n",
       "145  Create awareness and momentum; manage the succ...   \n",
       "240  Work one-on-one with the top Android, iOS, and...   \n",
       "\n",
       "                                Minimum Qualifications  \\\n",
       "3    BA/BS degree in Computer Science or equivalent...   \n",
       "75   BA/BS degree or equivalent practical experienc...   \n",
       "142  BA/BS degree in Computer Science or equivalent...   \n",
       "145  BA/BS degree or equivalent practical experienc...   \n",
       "240  BA/BS degree in Computer Science or equivalent...   \n",
       "\n",
       "                              Preferred Qualifications  \n",
       "3    Experience as a software developer, architect,...  \n",
       "75   Master's degree in Computer Science or related...  \n",
       "142  Experience as a software developer, architect,...  \n",
       "145  BA/BS degree in Computer Science or similar fi...  \n",
       "240  Experience as a software developer, architect,...  "
      ]
     },
     "execution_count": 106,
     "metadata": {},
     "output_type": "execute_result"
    }
   ],
   "source": [
    "developer_relations = dataset[dataset['Category'] == 'Developer Relations']\n",
    "print('Developer Relations has', developer_relations.shape[0], 'rows')\n",
    "developer_relations.head()"
   ]
  },
  {
   "cell_type": "markdown",
   "metadata": {},
   "source": [
    "## Hardware Engineering"
   ]
  },
  {
   "cell_type": "code",
   "execution_count": 105,
   "metadata": {},
   "outputs": [
    {
     "name": "stdout",
     "output_type": "stream",
     "text": [
      "Hardware Engineering has 26 rows\n"
     ]
    },
    {
     "data": {
      "text/html": [
       "<div>\n",
       "<style scoped>\n",
       "    .dataframe tbody tr th:only-of-type {\n",
       "        vertical-align: middle;\n",
       "    }\n",
       "\n",
       "    .dataframe tbody tr th {\n",
       "        vertical-align: top;\n",
       "    }\n",
       "\n",
       "    .dataframe thead th {\n",
       "        text-align: right;\n",
       "    }\n",
       "</style>\n",
       "<table border=\"1\" class=\"dataframe\">\n",
       "  <thead>\n",
       "    <tr style=\"text-align: right;\">\n",
       "      <th></th>\n",
       "      <th>Company</th>\n",
       "      <th>Title</th>\n",
       "      <th>Category</th>\n",
       "      <th>Location</th>\n",
       "      <th>Responsibilities</th>\n",
       "      <th>Minimum Qualifications</th>\n",
       "      <th>Preferred Qualifications</th>\n",
       "    </tr>\n",
       "  </thead>\n",
       "  <tbody>\n",
       "    <tr>\n",
       "      <th>6</th>\n",
       "      <td>Google</td>\n",
       "      <td>Supplier Development Engineer, Camera, Consume...</td>\n",
       "      <td>Hardware Engineering</td>\n",
       "      <td>Mountain View, CA, United States</td>\n",
       "      <td>Manage cross-functional activities in the supp...</td>\n",
       "      <td>BS degree in Engineering or equivalent practic...</td>\n",
       "      <td>Master's degree.\\nExperience in the developmen...</td>\n",
       "    </tr>\n",
       "    <tr>\n",
       "      <th>15</th>\n",
       "      <td>Google</td>\n",
       "      <td>Manufacturing Test Engineer</td>\n",
       "      <td>Hardware Engineering</td>\n",
       "      <td>South San Francisco, CA, United States</td>\n",
       "      <td>NaN</td>\n",
       "      <td>NaN</td>\n",
       "      <td>NaN</td>\n",
       "    </tr>\n",
       "    <tr>\n",
       "      <th>18</th>\n",
       "      <td>Google</td>\n",
       "      <td>Global Supply Chain Manager, Display/Touch, Co...</td>\n",
       "      <td>Hardware Engineering</td>\n",
       "      <td>Xinyi District, Taiwan</td>\n",
       "      <td>Develop and implement global supply chain stra...</td>\n",
       "      <td>BA/BS in Electrical Engineering, Mechanical En...</td>\n",
       "      <td>5 years of relevant work experience in global ...</td>\n",
       "    </tr>\n",
       "    <tr>\n",
       "      <th>64</th>\n",
       "      <td>Google</td>\n",
       "      <td>Engineering Manager, Consumer Hardware</td>\n",
       "      <td>Hardware Engineering</td>\n",
       "      <td>Xinyi District, Taiwan</td>\n",
       "      <td>Manage a cross-functional team of electrical e...</td>\n",
       "      <td>BS degree in Electrical Engineering or Mechani...</td>\n",
       "      <td>MS or PhD degree in Electrical Engineering or ...</td>\n",
       "    </tr>\n",
       "    <tr>\n",
       "      <th>81</th>\n",
       "      <td>Google</td>\n",
       "      <td>Analog &amp; CAD Automation Engineer</td>\n",
       "      <td>Hardware Engineering</td>\n",
       "      <td>Mountain View, CA, United States</td>\n",
       "      <td>Create automation tools for Cadence Concept an...</td>\n",
       "      <td>Bachelor's degree in Computer Science, Electri...</td>\n",
       "      <td>Master's degree in Computer Science, Electrica...</td>\n",
       "    </tr>\n",
       "  </tbody>\n",
       "</table>\n",
       "</div>"
      ],
      "text/plain": [
       "   Company                                              Title  \\\n",
       "6   Google  Supplier Development Engineer, Camera, Consume...   \n",
       "15  Google                        Manufacturing Test Engineer   \n",
       "18  Google  Global Supply Chain Manager, Display/Touch, Co...   \n",
       "64  Google             Engineering Manager, Consumer Hardware   \n",
       "81  Google                   Analog & CAD Automation Engineer   \n",
       "\n",
       "                Category                                Location  \\\n",
       "6   Hardware Engineering        Mountain View, CA, United States   \n",
       "15  Hardware Engineering  South San Francisco, CA, United States   \n",
       "18  Hardware Engineering                  Xinyi District, Taiwan   \n",
       "64  Hardware Engineering                  Xinyi District, Taiwan   \n",
       "81  Hardware Engineering        Mountain View, CA, United States   \n",
       "\n",
       "                                     Responsibilities  \\\n",
       "6   Manage cross-functional activities in the supp...   \n",
       "15                                                NaN   \n",
       "18  Develop and implement global supply chain stra...   \n",
       "64  Manage a cross-functional team of electrical e...   \n",
       "81  Create automation tools for Cadence Concept an...   \n",
       "\n",
       "                               Minimum Qualifications  \\\n",
       "6   BS degree in Engineering or equivalent practic...   \n",
       "15                                                NaN   \n",
       "18  BA/BS in Electrical Engineering, Mechanical En...   \n",
       "64  BS degree in Electrical Engineering or Mechani...   \n",
       "81  Bachelor's degree in Computer Science, Electri...   \n",
       "\n",
       "                             Preferred Qualifications  \n",
       "6   Master's degree.\\nExperience in the developmen...  \n",
       "15                                                NaN  \n",
       "18  5 years of relevant work experience in global ...  \n",
       "64  MS or PhD degree in Electrical Engineering or ...  \n",
       "81  Master's degree in Computer Science, Electrica...  "
      ]
     },
     "execution_count": 105,
     "metadata": {},
     "output_type": "execute_result"
    }
   ],
   "source": [
    "hardware_engineering = dataset[dataset['Category'] == 'Hardware Engineering'] \n",
    "print('Hardware Engineering has', hardware_engineering.shape[0], 'rows')\n",
    "hardware_engineering.head()"
   ]
  },
  {
   "cell_type": "markdown",
   "metadata": {},
   "source": [
    "## Software Engineering"
   ]
  },
  {
   "cell_type": "code",
   "execution_count": 104,
   "metadata": {},
   "outputs": [
    {
     "name": "stdout",
     "output_type": "stream",
     "text": [
      "Software Engineering has 31 rows\n"
     ]
    },
    {
     "data": {
      "text/html": [
       "<div>\n",
       "<style scoped>\n",
       "    .dataframe tbody tr th:only-of-type {\n",
       "        vertical-align: middle;\n",
       "    }\n",
       "\n",
       "    .dataframe tbody tr th {\n",
       "        vertical-align: top;\n",
       "    }\n",
       "\n",
       "    .dataframe thead th {\n",
       "        text-align: right;\n",
       "    }\n",
       "</style>\n",
       "<table border=\"1\" class=\"dataframe\">\n",
       "  <thead>\n",
       "    <tr style=\"text-align: right;\">\n",
       "      <th></th>\n",
       "      <th>Company</th>\n",
       "      <th>Title</th>\n",
       "      <th>Category</th>\n",
       "      <th>Location</th>\n",
       "      <th>Responsibilities</th>\n",
       "      <th>Minimum Qualifications</th>\n",
       "      <th>Preferred Qualifications</th>\n",
       "    </tr>\n",
       "  </thead>\n",
       "  <tbody>\n",
       "    <tr>\n",
       "      <th>17</th>\n",
       "      <td>Google</td>\n",
       "      <td>Software Engineering Manager, Cloud Storage, S...</td>\n",
       "      <td>Software Engineering</td>\n",
       "      <td>Dublin, Ireland</td>\n",
       "      <td>Lead a team of software and systems engineers ...</td>\n",
       "      <td>BA/BS degree in Computer Science or related te...</td>\n",
       "      <td>Hands-on technical experience.\\nCapable of tec...</td>\n",
       "    </tr>\n",
       "    <tr>\n",
       "      <th>21</th>\n",
       "      <td>Google</td>\n",
       "      <td>Software Engineer Manager, Tools and Infrastru...</td>\n",
       "      <td>Software Engineering</td>\n",
       "      <td>London, United Kingdom</td>\n",
       "      <td>Build and manage an engineering productivity t...</td>\n",
       "      <td>BA/BS degree in Computer Science or other rela...</td>\n",
       "      <td>Master's degree or PhD in Computer Science, Ar...</td>\n",
       "    </tr>\n",
       "    <tr>\n",
       "      <th>40</th>\n",
       "      <td>Google</td>\n",
       "      <td>Software Engineer</td>\n",
       "      <td>Software Engineering</td>\n",
       "      <td>Irvine, CA, United States</td>\n",
       "      <td>Design, develop, test, deploy, maintain and im...</td>\n",
       "      <td>BA/BS degree in Computer Science or similar te...</td>\n",
       "      <td>Master’s, PhD degree, further education or exp...</td>\n",
       "    </tr>\n",
       "    <tr>\n",
       "      <th>46</th>\n",
       "      <td>Google</td>\n",
       "      <td>Graphics Software Engineer, Robotics Simulatio...</td>\n",
       "      <td>Software Engineering</td>\n",
       "      <td>München, Germany</td>\n",
       "      <td>Manage feature development for graphics modeli...</td>\n",
       "      <td>BA/BS in Computer Science or Robotics, or equi...</td>\n",
       "      <td>Experience writing highly optimized and effici...</td>\n",
       "    </tr>\n",
       "    <tr>\n",
       "      <th>65</th>\n",
       "      <td>Google</td>\n",
       "      <td>Software Engineer, Performance Modeling</td>\n",
       "      <td>Software Engineering</td>\n",
       "      <td>Xinyi District, Taiwan</td>\n",
       "      <td>Develop simulation models at different abstrac...</td>\n",
       "      <td>Master's degree in Computer Science or Electri...</td>\n",
       "      <td>Familiarity with computer architecture, especi...</td>\n",
       "    </tr>\n",
       "  </tbody>\n",
       "</table>\n",
       "</div>"
      ],
      "text/plain": [
       "   Company                                              Title  \\\n",
       "17  Google  Software Engineering Manager, Cloud Storage, S...   \n",
       "21  Google  Software Engineer Manager, Tools and Infrastru...   \n",
       "40  Google                                  Software Engineer   \n",
       "46  Google  Graphics Software Engineer, Robotics Simulatio...   \n",
       "65  Google            Software Engineer, Performance Modeling   \n",
       "\n",
       "                Category                   Location  \\\n",
       "17  Software Engineering            Dublin, Ireland   \n",
       "21  Software Engineering     London, United Kingdom   \n",
       "40  Software Engineering  Irvine, CA, United States   \n",
       "46  Software Engineering           München, Germany   \n",
       "65  Software Engineering     Xinyi District, Taiwan   \n",
       "\n",
       "                                     Responsibilities  \\\n",
       "17  Lead a team of software and systems engineers ...   \n",
       "21  Build and manage an engineering productivity t...   \n",
       "40  Design, develop, test, deploy, maintain and im...   \n",
       "46  Manage feature development for graphics modeli...   \n",
       "65  Develop simulation models at different abstrac...   \n",
       "\n",
       "                               Minimum Qualifications  \\\n",
       "17  BA/BS degree in Computer Science or related te...   \n",
       "21  BA/BS degree in Computer Science or other rela...   \n",
       "40  BA/BS degree in Computer Science or similar te...   \n",
       "46  BA/BS in Computer Science or Robotics, or equi...   \n",
       "65  Master's degree in Computer Science or Electri...   \n",
       "\n",
       "                             Preferred Qualifications  \n",
       "17  Hands-on technical experience.\\nCapable of tec...  \n",
       "21  Master's degree or PhD in Computer Science, Ar...  \n",
       "40  Master’s, PhD degree, further education or exp...  \n",
       "46  Experience writing highly optimized and effici...  \n",
       "65  Familiarity with computer architecture, especi...  "
      ]
     },
     "execution_count": 104,
     "metadata": {},
     "output_type": "execute_result"
    }
   ],
   "source": [
    "doftware_engineering = dataset[dataset['Category'] == 'Software Engineering']\n",
    "print('Software Engineering has', doftware_engineering.shape[0], 'rows')\n",
    "doftware_engineering.head()"
   ]
  },
  {
   "cell_type": "markdown",
   "metadata": {},
   "source": [
    "## Data Center & Network"
   ]
  },
  {
   "cell_type": "code",
   "execution_count": 103,
   "metadata": {},
   "outputs": [
    {
     "name": "stdout",
     "output_type": "stream",
     "text": [
      "Data Center & Network has 2 rows\n"
     ]
    },
    {
     "data": {
      "text/html": [
       "<div>\n",
       "<style scoped>\n",
       "    .dataframe tbody tr th:only-of-type {\n",
       "        vertical-align: middle;\n",
       "    }\n",
       "\n",
       "    .dataframe tbody tr th {\n",
       "        vertical-align: top;\n",
       "    }\n",
       "\n",
       "    .dataframe thead th {\n",
       "        text-align: right;\n",
       "    }\n",
       "</style>\n",
       "<table border=\"1\" class=\"dataframe\">\n",
       "  <thead>\n",
       "    <tr style=\"text-align: right;\">\n",
       "      <th></th>\n",
       "      <th>Company</th>\n",
       "      <th>Title</th>\n",
       "      <th>Category</th>\n",
       "      <th>Location</th>\n",
       "      <th>Responsibilities</th>\n",
       "      <th>Minimum Qualifications</th>\n",
       "      <th>Preferred Qualifications</th>\n",
       "    </tr>\n",
       "  </thead>\n",
       "  <tbody>\n",
       "    <tr>\n",
       "      <th>27</th>\n",
       "      <td>Google</td>\n",
       "      <td>Program Manager, Supply Chain Data Management</td>\n",
       "      <td>Data Center &amp; Network</td>\n",
       "      <td>Sunnyvale, CA, United States</td>\n",
       "      <td>Understand the supply chain data structure and...</td>\n",
       "      <td>5 years of experience in supply chain operatio...</td>\n",
       "      <td>Ability to work independently with minimal gui...</td>\n",
       "    </tr>\n",
       "    <tr>\n",
       "      <th>161</th>\n",
       "      <td>Google</td>\n",
       "      <td>Technical Program Manager, Data Center Design</td>\n",
       "      <td>Data Center &amp; Network</td>\n",
       "      <td>New York, NY, United States</td>\n",
       "      <td>Manage multiple, simultaneous data center desi...</td>\n",
       "      <td>BS degree in a related technical field or equi...</td>\n",
       "      <td>MS or PhD in Electrical Engineering, Mechanica...</td>\n",
       "    </tr>\n",
       "  </tbody>\n",
       "</table>\n",
       "</div>"
      ],
      "text/plain": [
       "    Company                                          Title  \\\n",
       "27   Google  Program Manager, Supply Chain Data Management   \n",
       "161  Google  Technical Program Manager, Data Center Design   \n",
       "\n",
       "                  Category                      Location  \\\n",
       "27   Data Center & Network  Sunnyvale, CA, United States   \n",
       "161  Data Center & Network   New York, NY, United States   \n",
       "\n",
       "                                      Responsibilities  \\\n",
       "27   Understand the supply chain data structure and...   \n",
       "161  Manage multiple, simultaneous data center desi...   \n",
       "\n",
       "                                Minimum Qualifications  \\\n",
       "27   5 years of experience in supply chain operatio...   \n",
       "161  BS degree in a related technical field or equi...   \n",
       "\n",
       "                              Preferred Qualifications  \n",
       "27   Ability to work independently with minimal gui...  \n",
       "161  MS or PhD in Electrical Engineering, Mechanica...  "
      ]
     },
     "execution_count": 103,
     "metadata": {},
     "output_type": "execute_result"
    }
   ],
   "source": [
    "data_center_network = dataset[dataset['Category'] == 'Data Center & Network']  \n",
    "print('Data Center & Network has', data_center_network.shape[0], 'rows')\n",
    "data_center_network"
   ]
  },
  {
   "cell_type": "markdown",
   "metadata": {},
   "source": [
    "## IT & Data Management"
   ]
  },
  {
   "cell_type": "code",
   "execution_count": 102,
   "metadata": {},
   "outputs": [
    {
     "name": "stdout",
     "output_type": "stream",
     "text": [
      "IT & Data Management has 5 rows\n"
     ]
    },
    {
     "data": {
      "text/html": [
       "<div>\n",
       "<style scoped>\n",
       "    .dataframe tbody tr th:only-of-type {\n",
       "        vertical-align: middle;\n",
       "    }\n",
       "\n",
       "    .dataframe tbody tr th {\n",
       "        vertical-align: top;\n",
       "    }\n",
       "\n",
       "    .dataframe thead th {\n",
       "        text-align: right;\n",
       "    }\n",
       "</style>\n",
       "<table border=\"1\" class=\"dataframe\">\n",
       "  <thead>\n",
       "    <tr style=\"text-align: right;\">\n",
       "      <th></th>\n",
       "      <th>Company</th>\n",
       "      <th>Title</th>\n",
       "      <th>Category</th>\n",
       "      <th>Location</th>\n",
       "      <th>Responsibilities</th>\n",
       "      <th>Minimum Qualifications</th>\n",
       "      <th>Preferred Qualifications</th>\n",
       "    </tr>\n",
       "  </thead>\n",
       "  <tbody>\n",
       "    <tr>\n",
       "      <th>134</th>\n",
       "      <td>Google</td>\n",
       "      <td>Linguist, Natural Language Understanding, Mach...</td>\n",
       "      <td>IT &amp; Data Management</td>\n",
       "      <td>Zürich, Switzerland</td>\n",
       "      <td>Work closely with researchers and engineers by...</td>\n",
       "      <td>Ph.D in Linguistics/Computational Linguistics,...</td>\n",
       "      <td>Multilingual speaker with 2 years of experienc...</td>\n",
       "    </tr>\n",
       "    <tr>\n",
       "      <th>151</th>\n",
       "      <td>Google</td>\n",
       "      <td>Corporate Operations Engineer, IT Support, EPM</td>\n",
       "      <td>IT &amp; Data Management</td>\n",
       "      <td>Dublin, Ireland</td>\n",
       "      <td>Serve as subject matter expert resource on bes...</td>\n",
       "      <td>BS degree or equivalent practical experience.\\...</td>\n",
       "      <td>Experience with software development processes...</td>\n",
       "    </tr>\n",
       "    <tr>\n",
       "      <th>164</th>\n",
       "      <td>Google</td>\n",
       "      <td>Corporate Operations Engineer, Finance IT Support</td>\n",
       "      <td>IT &amp; Data Management</td>\n",
       "      <td>Sunnyvale, CA, United States</td>\n",
       "      <td>Serve as subject matter expert resource on bes...</td>\n",
       "      <td>BS degree or equivalent practical experience.\\...</td>\n",
       "      <td>Experience with software development processes...</td>\n",
       "    </tr>\n",
       "    <tr>\n",
       "      <th>443</th>\n",
       "      <td>Google</td>\n",
       "      <td>Linguist, Natural Language Understanding, Mach...</td>\n",
       "      <td>IT &amp; Data Management</td>\n",
       "      <td>Zürich, Switzerland</td>\n",
       "      <td>Work closely with researchers and engineers by...</td>\n",
       "      <td>Ph.D in Linguistics/Computational Linguistics,...</td>\n",
       "      <td>Multilingual speaker with 2 years of experienc...</td>\n",
       "    </tr>\n",
       "    <tr>\n",
       "      <th>831</th>\n",
       "      <td>Google</td>\n",
       "      <td>Linguist, Natural Language Understanding, Mach...</td>\n",
       "      <td>IT &amp; Data Management</td>\n",
       "      <td>Zürich, Switzerland</td>\n",
       "      <td>Work closely with researchers and engineers by...</td>\n",
       "      <td>Ph.D in Linguistics/Computational Linguistics,...</td>\n",
       "      <td>Multilingual speaker with 2 years of experienc...</td>\n",
       "    </tr>\n",
       "  </tbody>\n",
       "</table>\n",
       "</div>"
      ],
      "text/plain": [
       "    Company                                              Title  \\\n",
       "134  Google  Linguist, Natural Language Understanding, Mach...   \n",
       "151  Google     Corporate Operations Engineer, IT Support, EPM   \n",
       "164  Google  Corporate Operations Engineer, Finance IT Support   \n",
       "443  Google  Linguist, Natural Language Understanding, Mach...   \n",
       "831  Google  Linguist, Natural Language Understanding, Mach...   \n",
       "\n",
       "                 Category                      Location  \\\n",
       "134  IT & Data Management           Zürich, Switzerland   \n",
       "151  IT & Data Management               Dublin, Ireland   \n",
       "164  IT & Data Management  Sunnyvale, CA, United States   \n",
       "443  IT & Data Management           Zürich, Switzerland   \n",
       "831  IT & Data Management           Zürich, Switzerland   \n",
       "\n",
       "                                      Responsibilities  \\\n",
       "134  Work closely with researchers and engineers by...   \n",
       "151  Serve as subject matter expert resource on bes...   \n",
       "164  Serve as subject matter expert resource on bes...   \n",
       "443  Work closely with researchers and engineers by...   \n",
       "831  Work closely with researchers and engineers by...   \n",
       "\n",
       "                                Minimum Qualifications  \\\n",
       "134  Ph.D in Linguistics/Computational Linguistics,...   \n",
       "151  BS degree or equivalent practical experience.\\...   \n",
       "164  BS degree or equivalent practical experience.\\...   \n",
       "443  Ph.D in Linguistics/Computational Linguistics,...   \n",
       "831  Ph.D in Linguistics/Computational Linguistics,...   \n",
       "\n",
       "                              Preferred Qualifications  \n",
       "134  Multilingual speaker with 2 years of experienc...  \n",
       "151  Experience with software development processes...  \n",
       "164  Experience with software development processes...  \n",
       "443  Multilingual speaker with 2 years of experienc...  \n",
       "831  Multilingual speaker with 2 years of experienc...  "
      ]
     },
     "execution_count": 102,
     "metadata": {},
     "output_type": "execute_result"
    }
   ],
   "source": [
    "_IT_data_management = dataset[dataset['Category'] == 'IT & Data Management']  \n",
    "print('IT & Data Management has', _IT_data_management.shape[0], 'rows')\n",
    "_IT_data_management"
   ]
  },
  {
   "cell_type": "markdown",
   "metadata": {},
   "source": [
    "## User Experience & Design"
   ]
  },
  {
   "cell_type": "code",
   "execution_count": 101,
   "metadata": {},
   "outputs": [
    {
     "name": "stdout",
     "output_type": "stream",
     "text": [
      "User Experience & Design has 84 rows\n"
     ]
    },
    {
     "data": {
      "text/html": [
       "<div>\n",
       "<style scoped>\n",
       "    .dataframe tbody tr th:only-of-type {\n",
       "        vertical-align: middle;\n",
       "    }\n",
       "\n",
       "    .dataframe tbody tr th {\n",
       "        vertical-align: top;\n",
       "    }\n",
       "\n",
       "    .dataframe thead th {\n",
       "        text-align: right;\n",
       "    }\n",
       "</style>\n",
       "<table border=\"1\" class=\"dataframe\">\n",
       "  <thead>\n",
       "    <tr style=\"text-align: right;\">\n",
       "      <th></th>\n",
       "      <th>Company</th>\n",
       "      <th>Title</th>\n",
       "      <th>Category</th>\n",
       "      <th>Location</th>\n",
       "      <th>Responsibilities</th>\n",
       "      <th>Minimum Qualifications</th>\n",
       "      <th>Preferred Qualifications</th>\n",
       "    </tr>\n",
       "  </thead>\n",
       "  <tbody>\n",
       "    <tr>\n",
       "      <th>784</th>\n",
       "      <td>Google</td>\n",
       "      <td>Design Producer, Hardware</td>\n",
       "      <td>User Experience &amp; Design</td>\n",
       "      <td>Mountain View, CA, United States</td>\n",
       "      <td>Project manage various research projects by wo...</td>\n",
       "      <td>BA/BS degree or equivalent practical experienc...</td>\n",
       "      <td>Experience in Hardware Research\\nThorough know...</td>\n",
       "    </tr>\n",
       "    <tr>\n",
       "      <th>785</th>\n",
       "      <td>Google</td>\n",
       "      <td>User Experience Design Intern, Summer 2018</td>\n",
       "      <td>User Experience &amp; Design</td>\n",
       "      <td>San Bruno, CA, United States</td>\n",
       "      <td>Motion Designer:\\nCreate motion studies for en...</td>\n",
       "      <td>Must be currently enrolled in a full-time degr...</td>\n",
       "      <td>Currently pursuing a MS degree in graphic desi...</td>\n",
       "    </tr>\n",
       "    <tr>\n",
       "      <th>786</th>\n",
       "      <td>Google</td>\n",
       "      <td>Interaction Designer</td>\n",
       "      <td>User Experience &amp; Design</td>\n",
       "      <td>New York, NY, United States</td>\n",
       "      <td>Help to define the user model and user interfa...</td>\n",
       "      <td>BA/BS degree in Design (e.g. interaction, grap...</td>\n",
       "      <td>MA/MS degree in Design (e.g. interaction, grap...</td>\n",
       "    </tr>\n",
       "    <tr>\n",
       "      <th>787</th>\n",
       "      <td>Google</td>\n",
       "      <td>User Experience Researcher</td>\n",
       "      <td>User Experience &amp; Design</td>\n",
       "      <td>San Bruno, CA, United States</td>\n",
       "      <td>Conduct independent research on multiple aspec...</td>\n",
       "      <td>BA/BS degree in Anthropology, Human Factors, P...</td>\n",
       "      <td>M.S./M.A. or Ph.D. in a related field combined...</td>\n",
       "    </tr>\n",
       "    <tr>\n",
       "      <th>788</th>\n",
       "      <td>Google</td>\n",
       "      <td>User Experience Research Intern, Summer 2018</td>\n",
       "      <td>User Experience &amp; Design</td>\n",
       "      <td>Mountain View, CA, United States</td>\n",
       "      <td>Design and conduct user studies to gauge the u...</td>\n",
       "      <td>Currently pursuing a Bachelor’s degree in huma...</td>\n",
       "      <td>Currently pursuing a MS or PhD in human comput...</td>\n",
       "    </tr>\n",
       "  </tbody>\n",
       "</table>\n",
       "</div>"
      ],
      "text/plain": [
       "    Company                                         Title  \\\n",
       "784  Google                     Design Producer, Hardware   \n",
       "785  Google    User Experience Design Intern, Summer 2018   \n",
       "786  Google                          Interaction Designer   \n",
       "787  Google                    User Experience Researcher   \n",
       "788  Google  User Experience Research Intern, Summer 2018   \n",
       "\n",
       "                     Category                          Location  \\\n",
       "784  User Experience & Design  Mountain View, CA, United States   \n",
       "785  User Experience & Design      San Bruno, CA, United States   \n",
       "786  User Experience & Design       New York, NY, United States   \n",
       "787  User Experience & Design      San Bruno, CA, United States   \n",
       "788  User Experience & Design  Mountain View, CA, United States   \n",
       "\n",
       "                                      Responsibilities  \\\n",
       "784  Project manage various research projects by wo...   \n",
       "785  Motion Designer:\\nCreate motion studies for en...   \n",
       "786  Help to define the user model and user interfa...   \n",
       "787  Conduct independent research on multiple aspec...   \n",
       "788  Design and conduct user studies to gauge the u...   \n",
       "\n",
       "                                Minimum Qualifications  \\\n",
       "784  BA/BS degree or equivalent practical experienc...   \n",
       "785  Must be currently enrolled in a full-time degr...   \n",
       "786  BA/BS degree in Design (e.g. interaction, grap...   \n",
       "787  BA/BS degree in Anthropology, Human Factors, P...   \n",
       "788  Currently pursuing a Bachelor’s degree in huma...   \n",
       "\n",
       "                              Preferred Qualifications  \n",
       "784  Experience in Hardware Research\\nThorough know...  \n",
       "785  Currently pursuing a MS degree in graphic desi...  \n",
       "786  MA/MS degree in Design (e.g. interaction, grap...  \n",
       "787  M.S./M.A. or Ph.D. in a related field combined...  \n",
       "788  Currently pursuing a MS or PhD in human comput...  "
      ]
     },
     "execution_count": 101,
     "metadata": {},
     "output_type": "execute_result"
    }
   ],
   "source": [
    "user_xperience_design = dataset[dataset['Category'] == 'User Experience & Design']\n",
    "print('User Experience & Design has', user_xperience_design.shape[0], 'rows')\n",
    "user_xperience_design.head()"
   ]
  },
  {
   "cell_type": "code",
   "execution_count": null,
   "metadata": {},
   "outputs": [],
   "source": []
  },
  {
   "cell_type": "markdown",
   "metadata": {},
   "source": [
    "We can narrow it further but for the purpose of getting a complete and relevant information we will leave it here and thus end our analysis here.\n",
    "Let us know what you think. Thank you!"
   ]
  },
  {
   "cell_type": "code",
   "execution_count": null,
   "metadata": {},
   "outputs": [],
   "source": []
  }
 ],
 "metadata": {
  "kernelspec": {
   "display_name": "Python 3",
   "language": "python",
   "name": "python3"
  },
  "language_info": {
   "codemirror_mode": {
    "name": "ipython",
    "version": 3
   },
   "file_extension": ".py",
   "mimetype": "text/x-python",
   "name": "python",
   "nbconvert_exporter": "python",
   "pygments_lexer": "ipython3",
   "version": "3.7.6"
  }
 },
 "nbformat": 4,
 "nbformat_minor": 4
}
